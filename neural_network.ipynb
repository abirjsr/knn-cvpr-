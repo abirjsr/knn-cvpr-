{
  "nbformat": 4,
  "nbformat_minor": 0,
  "metadata": {
    "colab": {
      "provenance": [],
      "authorship_tag": "ABX9TyODw2+SZvgnK6PrplJqErK0",
      "include_colab_link": true
    },
    "kernelspec": {
      "name": "python3",
      "display_name": "Python 3"
    },
    "language_info": {
      "name": "python"
    }
  },
  "cells": [
    {
      "cell_type": "markdown",
      "metadata": {
        "id": "view-in-github",
        "colab_type": "text"
      },
      "source": [
        "<a href=\"https://colab.research.google.com/github/abirjsr/mid/blob/main/neural_network.ipynb\" target=\"_parent\"><img src=\"https://colab.research.google.com/assets/colab-badge.svg\" alt=\"Open In Colab\"/></a>"
      ]
    },
    {
      "cell_type": "code",
      "execution_count": 1,
      "metadata": {
        "id": "-takP1HusE4M"
      },
      "outputs": [],
      "source": [
        "import numpy as np\n",
        "\n",
        "class NeuralNetwork():\n",
        "    def __init__(self):\n",
        "        np.random.seed(1)\n",
        "        self.synaptic_weights1 = 2 * np.random.random((3, 4)) - 1\n",
        "        self.synaptic_weights2 = 2 * np.random.random((4, 3)) - 1\n",
        "\n",
        "    def relu(self, x):\n",
        "        return np.maximum(0, x)\n",
        "\n",
        "    def relu_derivative(self, x):\n",
        "        return np.where(x > 0, 1, 0)\n",
        "\n",
        "    def softmax(self, x):\n",
        "        exp_values = np.exp(x - np.max(x, axis=1, keepdims=True))\n",
        "        return exp_values / np.sum(exp_values, axis=1, keepdims=True)\n",
        "\n",
        "    def train(self, training_inputs, training_outputs, training_iterations, learning_rate=0.01):\n",
        "        for iteration in range(training_iterations):\n",
        "            hidden_layer_input = np.dot(training_inputs, self.synaptic_weights1)\n",
        "            hidden_layer_output = self.relu(hidden_layer_input)\n",
        "            final_layer_input = np.dot(hidden_layer_output, self.synaptic_weights2)\n",
        "            final_output = self.softmax(final_layer_input)\n",
        "            output_error = training_outputs - final_output\n",
        "            final_layer_delta = output_error\n",
        "            hidden_layer_error = np.dot(final_layer_delta, self.synaptic_weights2.T)\n",
        "            hidden_layer_delta = hidden_layer_error * self.relu_derivative(hidden_layer_input)\n",
        "            self.synaptic_weights2 += learning_rate * np.dot(hidden_layer_output.T, final_layer_delta) / training_inputs.shape[0]\n",
        "            self.synaptic_weights1 += learning_rate * np.dot(training_inputs.T, hidden_layer_delta) / training_inputs.shape[0]\n",
        "\n",
        "    def think(self, inputs):\n",
        "        inputs = inputs.astype(float)\n",
        "        hidden_layer_input = np.dot(inputs, self.synaptic_weights1)\n",
        "        hidden_layer_output = self.relu(hidden_layer_input)\n",
        "        final_layer_input = np.dot(hidden_layer_output, self.synaptic_weights2)\n",
        "        final_output = self.softmax(final_layer_input)\n",
        "        return final_output\n"
      ]
    },
    {
      "cell_type": "code",
      "source": [
        "# Initialize the neural network\n",
        "neural_network = NeuralNetwork()\n",
        "\n",
        "# Training data\n",
        "training_inputs = np.array([[0, 0, 1],\n",
        "                             [1, 1, 1],\n",
        "                             [1, 0, 1],\n",
        "                             [0, 1, 1]])\n",
        "\n",
        "training_outputs = np.array([[1, 0, 0],\n",
        "                              [0, 1, 0],\n",
        "                              [0, 0, 1],\n",
        "                              [1, 0, 0]])\n",
        "\n",
        "# Train the neural network\n",
        "neural_network.train(training_inputs, training_outputs, training_iterations=10000, learning_rate=0.01)\n",
        "\n",
        "# Test\n",
        "print(neural_network.think(np.array([[1, 0, 0]])))\n"
      ],
      "metadata": {
        "colab": {
          "base_uri": "https://localhost:8080/"
        },
        "id": "58sbgTifsJ3R",
        "outputId": "6356fe80-4336-4315-b5f8-eff4f7c0a434"
      },
      "execution_count": 2,
      "outputs": [
        {
          "output_type": "stream",
          "name": "stdout",
          "text": [
            "[[0.01723591 0.01110451 0.97165958]]\n"
          ]
        }
      ]
    },
    {
      "cell_type": "code",
      "source": [
        "neural_network = NeuralNetwork()\n"
      ],
      "metadata": {
        "id": "Py2jfE0gsSiD"
      },
      "execution_count": 3,
      "outputs": []
    },
    {
      "cell_type": "code",
      "source": [
        "neural_network.train(training_inputs, training_outputs, training_iterations=10000, learning_rate=0.01)\n"
      ],
      "metadata": {
        "id": "wZOuTCdQsnnc"
      },
      "execution_count": 4,
      "outputs": []
    },
    {
      "cell_type": "code",
      "source": [
        "print(neural_network.think(np.array([[1, 0, 0]])))\n"
      ],
      "metadata": {
        "colab": {
          "base_uri": "https://localhost:8080/"
        },
        "id": "3pcmhSUmspsH",
        "outputId": "16b719a5-0f66-4603-e01f-1c0c72821c9c"
      },
      "execution_count": 5,
      "outputs": [
        {
          "output_type": "stream",
          "name": "stdout",
          "text": [
            "[[0.01723591 0.01110451 0.97165958]]\n"
          ]
        }
      ]
    },
    {
      "cell_type": "code",
      "source": [],
      "metadata": {
        "id": "GJfVBZBnss6l"
      },
      "execution_count": null,
      "outputs": []
    }
  ]
}